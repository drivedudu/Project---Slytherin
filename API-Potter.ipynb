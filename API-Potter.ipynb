{
 "cells": [
  {
   "cell_type": "code",
   "execution_count": null,
   "metadata": {},
   "outputs": [],
   "source": [
    "import requests\n",
    "import pandas as pd\n",
    "from sqlalchemy import create_engine\n",
    "# Create engine\n",
    "import getpass  # To get the password without showing the input\n",
    "import defs\n",
    "\n",
    "base1 = r\"C:\\Users\\u\\ih-labs\\#02 database\\Characters.csv\"\n",
    "base2 = r\"C:\\Users\\u\\ih-labs\\#02 database\\slytherin_characters.csv\"\n",
    "df_base = pd.read_csv(base1, delimiter=';', index_col=\"Id\")\n",
    "df_base_slytherin_characters = pd.read_csv(base2)\n",
    "df_base_slytherin_characters = df_base_slytherin_characters.rename(columns={'name': 'name', 'born': 'birth', 'died': 'death'})\n"
   ]
  },
  {
   "cell_type": "code",
   "execution_count": null,
   "metadata": {},
   "outputs": [],
   "source": [
    "listcol=['Wand','Patronus',\"Eye colour\", \"Skills\"]\n",
    "df_filter_sly = df_base.drop(columns=listcol)\n",
    "df_filter_sly.columns = df_filter_sly.columns.str.lower()\n",
    "df_filter_sly.columns = df_filter_sly.columns.str.replace(' ','_')\n",
    "df_filter_sly = df_filter_sly.query(\"house == 'Slytherin'\")\n",
    "\n",
    "merged_df = pd.concat([df_base_slytherin_characters, df_filter_sly], axis=0)\n",
    "merged_df.index = merged_df.index + 1\n"
   ]
  },
  {
   "cell_type": "code",
   "execution_count": null,
   "metadata": {},
   "outputs": [],
   "source": [
    "#  creating FOREIGN KEY \n",
    "dataframes = {}\n",
    "lista_de_nomes = ['blood_status','gender','species']\n",
    "\n",
    "for name in lista_de_nomes:\n",
    "    dataframes[name] = defs.countvalues(merged_df, name)\n",
    "    # display(dataframes[name])\n",
    "\n",
    "defs.save_to_sql(dataframes, engine)\n"
   ]
  },
  {
   "cell_type": "code",
   "execution_count": null,
   "metadata": {},
   "outputs": [],
   "source": [
    "#  replace with FOREIGN KEY \n",
    "mapping = {}\n",
    "\n",
    "# Iterar sobre os dataframes no dicionário\n",
    "for df_name, df in dataframes.items():\n",
    "    # Obter valores únicos na coluna 'gender' do dataframe atual\n",
    "    unique_values = df[df_name].unique()\n",
    "    \n",
    "    # Criar um mapeamento dos valores únicos para seus índices correspondentes\n",
    "    for index, value in enumerate(unique_values, start=1):\n",
    "        mapping[value] = index\n",
    "\n",
    "for ii, namee in enumerate(dataframes.keys()):\n",
    "    merged_df[namee] = merged_df[namee].replace(mapping)"
   ]
  },
  {
   "cell_type": "code",
   "execution_count": null,
   "metadata": {},
   "outputs": [],
   "source": [
    "merged_df.to_sql('characters', con=engine, if_exists='replace', index=True)\n",
    "engine.dispose()"
   ]
  },
  {
   "cell_type": "code",
   "execution_count": null,
   "metadata": {},
   "outputs": [],
   "source": [
    "blood_character = merged_df_2[[ 'Status','Id','HP_id','Species']].copy()"
   ]
  },
  {
   "cell_type": "code",
   "execution_count": null,
   "metadata": {},
   "outputs": [],
   "source": [
    "connect = defs.create_cnt()"
   ]
  },
  {
   "cell_type": "code",
   "execution_count": null,
   "metadata": {},
   "outputs": [],
   "source": [
    "query = f\"\"\"\n",
    "        SELECT name, bs.blood_status, sp.species\n",
    "        FROM characters  ct\n",
    "        LEFT Join blood_status  bs\n",
    "        ON bs.index = ct.blood_status\n",
    "        LEFT Join species  sp\n",
    "        ON sp.index = ct.species;\n",
    "        \"\"\"\n",
    "df = pd.read_sql_query(query, connect)\n",
    "engine.dispose()\n"
   ]
  },
  {
   "cell_type": "code",
   "execution_count": null,
   "metadata": {},
   "outputs": [],
   "source": [
    "substitutions = {\n",
    "    'Pure-blood': 'Pureblood',\n",
    "    'Half-blood': 'Halfblood',\n",
    "    'Half-blood (most likely)': 'Halfblood',\n",
    "    'Half-breed (one-eighth-Veela)': 'Halfblood',\n",
    "    'Muggle-born or half-blood (possibly)': 'Halfblood',\n",
    "    'Pure-blood (most likely)': 'Pureblood',\n",
    "    'Pure-blood or Half-blood': 'Halfblood',\n",
    "    'Pure-blood or half-blood': 'Halfblood',\n",
    "    'Pure-blood or half-blood (likely)': 'Halfblood',\n",
    "    'Pure-blood or half-blood (most likely)': 'Halfblood',\n",
    "    'Pure-blood or half-blood (possibly)': 'Halfblood',\n",
    "    'Pure-blood or half-blood (presumably)': 'Halfblood',\n",
    "    'Pure-blood or Half-blood': 'Halfblood',\n",
    "    'Pure-blood or half-blood': 'Halfblood'\n",
    "}\n",
    "\n",
    "# Substitui os valores na coluna 'blood_status' usando o método .replace()\n",
    "df['blood_status'] = df['blood_status'].replace(substitutions)"
   ]
  },
  {
   "cell_type": "code",
   "execution_count": null,
   "metadata": {},
   "outputs": [],
   "source": [
    "# numbers\n",
    "df.groupby('blood_status').size()"
   ]
  },
  {
   "cell_type": "code",
   "execution_count": null,
   "metadata": {},
   "outputs": [],
   "source": [
    "# percentual\n",
    "df['blood_status'].value_counts(normalize=True)*100"
   ]
  },
  {
   "cell_type": "code",
   "execution_count": null,
   "metadata": {},
   "outputs": [],
   "source": [
    "df['species'].value_counts()"
   ]
  },
  {
   "cell_type": "code",
   "execution_count": null,
   "metadata": {},
   "outputs": [],
   "source": [
    "df['species'].value_counts(normalize=True)*100\n"
   ]
  },
  {
   "cell_type": "code",
   "execution_count": null,
   "metadata": {},
   "outputs": [],
   "source": [
    "# Exemplo de uso da função\n",
    "characters_data = defs.get_potter_data()\n",
    "characters_data1 = characters_data.copy()\n"
   ]
  },
  {
   "cell_type": "code",
   "execution_count": null,
   "metadata": {},
   "outputs": [],
   "source": [
    "\n",
    "# Exemplo de uso da função\n",
    "# characters_data = get_potter_data()\n",
    "\n",
    "# Exemplo de uso das funções\n",
    "defs.print_json_keys(characters_data1)\n",
    "\n",
    "# Exemplo de uso da função\n",
    "dfcd = defs.create_dataframe(characters_data)\n",
    "print(dfcd.head())\n"
   ]
  }
 ],
 "metadata": {
  "kernelspec": {
   "display_name": "Python 3 (ipykernel)",
   "language": "python",
   "name": "python3"
  },
  "language_info": {
   "codemirror_mode": {
    "name": "ipython",
    "version": 3
   },
   "file_extension": ".py",
   "mimetype": "text/x-python",
   "name": "python",
   "nbconvert_exporter": "python",
   "pygments_lexer": "ipython3",
   "version": "3.11.7"
  }
 },
 "nbformat": 4,
 "nbformat_minor": 4
}
